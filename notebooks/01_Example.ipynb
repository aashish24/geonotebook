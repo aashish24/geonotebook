{
 "cells": [
  {
   "cell_type": "markdown",
   "metadata": {},
   "source": [
    "# Welcome to the Geonotebook\n",
    "GeoNotebook is an application that provides client/server enviroment with inteactive visualization and analysis capabilities using Jupyter notebook, GeoJS and other open source tools.\n",
    "\n",
    "The example notesbooks in this directory will walk you through several of the features that the ```geonotebook``` plugin to Jupyter makes available. The first thing to know about is...\n",
    "\n",
    "### The geonotebook object\n",
    "\n",
    "The ```M``` object is inserted into the kernel automatically once the notebook is started.  This object lives inside the Python kernel's namespace and communicates information to (and receives information from) the GeoJS map. Note that nothing has been imported,  but the ```M``` variable is still available.\n",
    "\n",
    "**Note:** If you are viewing a static version of this notebook you will NOT see the GeoJS map that is dynamically added to a running notebook.  Please see this [Screen shot](https://raw.githubusercontent.com/OpenGeoscience/geonotebook/master/screenshots/geonotebook.png) to get a sense of the running interface."
   ]
  },
  {
   "cell_type": "code",
   "execution_count": 4,
   "metadata": {
    "collapsed": false
   },
   "outputs": [
    {
     "data": {
      "text/plain": [
       "<geonotebook.kernel.Geonotebook at 0x10d1ca0d0>"
      ]
     },
     "execution_count": 4,
     "metadata": {},
     "output_type": "execute_result"
    }
   ],
   "source": [
    "M"
   ]
  },
  {
   "cell_type": "markdown",
   "metadata": {},
   "source": [
    "### Set the map's center\n",
    "\n",
    "The M object exposes a number of different functions for interacting with the map (which should be located to the right of standard jupyter python cells).\n",
    "\n",
    "Executing the following cell should set the center of the map to New York State. \n"
   ]
  },
  {
   "cell_type": "code",
   "execution_count": 5,
   "metadata": {
    "collapsed": false
   },
   "outputs": [
    {
     "data": {
      "text/plain": [
       "<promise.promise.Promise at 0x10d232450>"
      ]
     },
     "execution_count": 5,
     "metadata": {},
     "output_type": "execute_result"
    }
   ],
   "source": [
    "# set_center's arguments are longitude, latitude, and zoom level\n",
    "M.set_center(-74, 43, 6)"
   ]
  },
  {
   "cell_type": "markdown",
   "metadata": {},
   "source": [
    "## What just happened?\n",
    "\n",
    "It is important to understand that ```M.set_center(...)``` is a Python statement being made inside the Python kernel. It is using a remote procedure call to change the javascript map's location.\n",
    "\n",
    "The standard Jupyter notebook has three components, (1) the client that makes up the notebook cells, (2) a web server that lists notebook files,  directories and serves notebook assets like HTML and CSS (3) a kernel that executes commands in the chosen language (in our case Python).\n",
    "\n",
    "![geonotebook simple](https://docs.google.com/drawings/d/1WwUg_nUWkPTsTYTE9Bnjnzu-sIoZh4_PxM4jW7hONiU/pub?w=1440&h=1080)\n",
    "\n",
    "When you executed the previous cell the string \"M.set_center(-74, 43, 6)\" was transmitted over a web socket to the webserver,  then proxied through ZeroMQ to the IPykernel where it was evaluated as a Python expression. This is the standard way in which Jupyter notebook takes code from a web browser,  and executes it in an interactive shell (kernel). M is an object in the kernel,  and it has a function *set_center*.  That function executed and returned a [promise](https://pypi.python.org/pypi/promise),  which is why you see something in the cell output like ```<promise.promise.Promise at 0x7f567dd8f290>```\n",
    "\n",
    "While the ```set_center``` function returns a promise,  it also has a side effect. This side effect uses a custom jupyter communication channel (or 'Comm') to tell the map to change its view port so the center is at (in this case) -74.0 latitude,  43.0 longitude,  with a zoom level of 6. \n",
    "\n",
    "**The importaint take away here is this:** \n",
    "\n",
    "    We executed a Python statement which changed the state of the GeoJS Map. \n",
    "\n",
    "As we work through these examples we'll see lots of examples of how the Python kernel can interact with the map and vice-versa.\n",
    "\n"
   ]
  },
  {
   "cell_type": "markdown",
   "metadata": {},
   "source": [
    "## Widget example\n",
    "\n",
    "One question you may immediately ask yourself is,  why not have the notebook cell talk to the map directly?  Why get python involved at all? Well, because ```M.set_center``` is just a Python function,  it can do things like leverage the existing widget extension to the notebook.  \n",
    "\n",
    "First you must ensure that ```ipywidgets``` extension is [installed](http://ipywidgets.readthedocs.io/en/latest/user_install.html). **If you are running from a virtual environment** the following commands should suffice:"
   ]
  },
  {
   "cell_type": "code",
   "execution_count": 6,
   "metadata": {
    "collapsed": false
   },
   "outputs": [
    {
     "name": "stdout",
     "output_type": "stream",
     "text": [
      "Requirement already satisfied: ipywidgets in /Users/aashishchaudhary/tools/geonotebook/src.git/dev/lib/python2.7/site-packages\n",
      "Requirement already satisfied: traitlets>=4.3.1 in /Users/aashishchaudhary/tools/geonotebook/src.git/dev/lib/python2.7/site-packages (from ipywidgets)\n",
      "Requirement already satisfied: widgetsnbextension~=2.0.0 in /Users/aashishchaudhary/tools/geonotebook/src.git/dev/lib/python2.7/site-packages (from ipywidgets)\n",
      "Requirement already satisfied: ipykernel>=4.5.1 in /Users/aashishchaudhary/tools/geonotebook/src.git/dev/lib/python2.7/site-packages (from ipywidgets)\n",
      "Requirement already satisfied: ipython>=4.0.0 in /Users/aashishchaudhary/tools/geonotebook/src.git/dev/lib/python2.7/site-packages (from ipywidgets)\n",
      "Requirement already satisfied: nbformat>=4.2.0 in /Users/aashishchaudhary/tools/geonotebook/src.git/dev/lib/python2.7/site-packages (from ipywidgets)\n",
      "Requirement already satisfied: ipython-genutils in /Users/aashishchaudhary/tools/geonotebook/src.git/dev/lib/python2.7/site-packages (from traitlets>=4.3.1->ipywidgets)\n",
      "Requirement already satisfied: decorator in /Users/aashishchaudhary/tools/geonotebook/src.git/dev/lib/python2.7/site-packages (from traitlets>=4.3.1->ipywidgets)\n",
      "Requirement already satisfied: six in /Users/aashishchaudhary/tools/geonotebook/src.git/dev/lib/python2.7/site-packages (from traitlets>=4.3.1->ipywidgets)\n",
      "Requirement already satisfied: enum34; python_version == \"2.7\" in /Users/aashishchaudhary/tools/geonotebook/src.git/dev/lib/python2.7/site-packages (from traitlets>=4.3.1->ipywidgets)\n",
      "Collecting notebook>=4.4.1 (from widgetsnbextension~=2.0.0->ipywidgets)\n",
      "  Downloading notebook-4.4.1-py2.py3-none-any.whl (6.9MB)\n",
      "\u001b[K    100% |████████████████████████████████| 6.9MB 156kB/s ta 0:00:011\n",
      "\u001b[?25hRequirement already satisfied: jupyter-client in /Users/aashishchaudhary/tools/geonotebook/src.git/dev/lib/python2.7/site-packages (from ipykernel>=4.5.1->ipywidgets)\n",
      "Requirement already satisfied: tornado>=4.0 in /Users/aashishchaudhary/tools/geonotebook/src.git/dev/lib/python2.7/site-packages (from ipykernel>=4.5.1->ipywidgets)\n",
      "Requirement already satisfied: simplegeneric>0.8 in /Users/aashishchaudhary/tools/geonotebook/src.git/dev/lib/python2.7/site-packages (from ipython>=4.0.0->ipywidgets)\n",
      "Requirement already satisfied: backports.shutil-get-terminal-size; python_version == \"2.7\" in /Users/aashishchaudhary/tools/geonotebook/src.git/dev/lib/python2.7/site-packages (from ipython>=4.0.0->ipywidgets)\n",
      "Requirement already satisfied: pygments in /Users/aashishchaudhary/tools/geonotebook/src.git/dev/lib/python2.7/site-packages (from ipython>=4.0.0->ipywidgets)\n",
      "Requirement already satisfied: appnope; sys_platform == \"darwin\" in /Users/aashishchaudhary/tools/geonotebook/src.git/dev/lib/python2.7/site-packages (from ipython>=4.0.0->ipywidgets)\n",
      "Requirement already satisfied: pexpect; sys_platform != \"win32\" in /Users/aashishchaudhary/tools/geonotebook/src.git/dev/lib/python2.7/site-packages (from ipython>=4.0.0->ipywidgets)\n",
      "Requirement already satisfied: pickleshare in /Users/aashishchaudhary/tools/geonotebook/src.git/dev/lib/python2.7/site-packages (from ipython>=4.0.0->ipywidgets)\n",
      "Requirement already satisfied: prompt-toolkit<2.0.0,>=1.0.4 in /Users/aashishchaudhary/tools/geonotebook/src.git/dev/lib/python2.7/site-packages (from ipython>=4.0.0->ipywidgets)\n",
      "Requirement already satisfied: setuptools>=18.5 in /Users/aashishchaudhary/tools/geonotebook/src.git/dev/lib/python2.7/site-packages (from ipython>=4.0.0->ipywidgets)\n",
      "Requirement already satisfied: pathlib2; python_version == \"2.7\" or python_version == \"3.3\" in /Users/aashishchaudhary/tools/geonotebook/src.git/dev/lib/python2.7/site-packages (from ipython>=4.0.0->ipywidgets)\n",
      "Requirement already satisfied: jupyter-core in /Users/aashishchaudhary/tools/geonotebook/src.git/dev/lib/python2.7/site-packages (from nbformat>=4.2.0->ipywidgets)\n",
      "Requirement already satisfied: jsonschema!=2.5.0,>=2.4 in /Users/aashishchaudhary/tools/geonotebook/src.git/dev/lib/python2.7/site-packages (from nbformat>=4.2.0->ipywidgets)\n",
      "Requirement already satisfied: terminado>=0.3.3; sys_platform != \"win32\" in /Users/aashishchaudhary/tools/geonotebook/src.git/dev/lib/python2.7/site-packages (from notebook>=4.4.1->widgetsnbextension~=2.0.0->ipywidgets)\n",
      "Requirement already satisfied: jinja2 in /Users/aashishchaudhary/tools/geonotebook/src.git/dev/lib/python2.7/site-packages (from notebook>=4.4.1->widgetsnbextension~=2.0.0->ipywidgets)\n",
      "Requirement already satisfied: nbconvert in /Users/aashishchaudhary/tools/geonotebook/src.git/dev/lib/python2.7/site-packages (from notebook>=4.4.1->widgetsnbextension~=2.0.0->ipywidgets)\n",
      "Requirement already satisfied: pyzmq>=13 in /Users/aashishchaudhary/tools/geonotebook/src.git/dev/lib/python2.7/site-packages (from jupyter-client->ipykernel>=4.5.1->ipywidgets)\n",
      "Requirement already satisfied: backports-abc>=0.4 in /Users/aashishchaudhary/tools/geonotebook/src.git/dev/lib/python2.7/site-packages (from tornado>=4.0->ipykernel>=4.5.1->ipywidgets)\n",
      "Requirement already satisfied: certifi in /Users/aashishchaudhary/tools/geonotebook/src.git/dev/lib/python2.7/site-packages (from tornado>=4.0->ipykernel>=4.5.1->ipywidgets)\n",
      "Requirement already satisfied: singledispatch in /Users/aashishchaudhary/tools/geonotebook/src.git/dev/lib/python2.7/site-packages (from tornado>=4.0->ipykernel>=4.5.1->ipywidgets)\n",
      "Requirement already satisfied: ptyprocess>=0.5 in /Users/aashishchaudhary/tools/geonotebook/src.git/dev/lib/python2.7/site-packages (from pexpect; sys_platform != \"win32\"->ipython>=4.0.0->ipywidgets)\n",
      "Requirement already satisfied: wcwidth in /Users/aashishchaudhary/tools/geonotebook/src.git/dev/lib/python2.7/site-packages (from prompt-toolkit<2.0.0,>=1.0.4->ipython>=4.0.0->ipywidgets)\n",
      "Requirement already satisfied: packaging>=16.8 in /Users/aashishchaudhary/tools/geonotebook/src.git/dev/lib/python2.7/site-packages (from setuptools>=18.5->ipython>=4.0.0->ipywidgets)\n",
      "Requirement already satisfied: appdirs>=1.4.0 in /Users/aashishchaudhary/tools/geonotebook/src.git/dev/lib/python2.7/site-packages (from setuptools>=18.5->ipython>=4.0.0->ipywidgets)\n",
      "Requirement already satisfied: scandir; python_version < \"3.5\" in /Users/aashishchaudhary/tools/geonotebook/src.git/dev/lib/python2.7/site-packages (from pathlib2; python_version == \"2.7\" or python_version == \"3.3\"->ipython>=4.0.0->ipywidgets)\n",
      "Requirement already satisfied: functools32; python_version == \"2.7\" in /Users/aashishchaudhary/tools/geonotebook/src.git/dev/lib/python2.7/site-packages (from jsonschema!=2.5.0,>=2.4->nbformat>=4.2.0->ipywidgets)\n",
      "Requirement already satisfied: MarkupSafe>=0.23 in /Users/aashishchaudhary/tools/geonotebook/src.git/dev/lib/python2.7/site-packages (from jinja2->notebook>=4.4.1->widgetsnbextension~=2.0.0->ipywidgets)\n",
      "Requirement already satisfied: mistune!=0.6 in /Users/aashishchaudhary/tools/geonotebook/src.git/dev/lib/python2.7/site-packages (from nbconvert->notebook>=4.4.1->widgetsnbextension~=2.0.0->ipywidgets)\n",
      "Requirement already satisfied: bleach in /Users/aashishchaudhary/tools/geonotebook/src.git/dev/lib/python2.7/site-packages (from nbconvert->notebook>=4.4.1->widgetsnbextension~=2.0.0->ipywidgets)\n",
      "Requirement already satisfied: testpath in /Users/aashishchaudhary/tools/geonotebook/src.git/dev/lib/python2.7/site-packages (from nbconvert->notebook>=4.4.1->widgetsnbextension~=2.0.0->ipywidgets)\n",
      "Requirement already satisfied: pandocfilters>=1.4.1 in /Users/aashishchaudhary/tools/geonotebook/src.git/dev/lib/python2.7/site-packages (from nbconvert->notebook>=4.4.1->widgetsnbextension~=2.0.0->ipywidgets)\n",
      "Requirement already satisfied: entrypoints>=0.2.2 in /Users/aashishchaudhary/tools/geonotebook/src.git/dev/lib/python2.7/site-packages (from nbconvert->notebook>=4.4.1->widgetsnbextension~=2.0.0->ipywidgets)\n",
      "Requirement already satisfied: pyparsing in /Users/aashishchaudhary/tools/geonotebook/src.git/dev/lib/python2.7/site-packages (from packaging>=16.8->setuptools>=18.5->ipython>=4.0.0->ipywidgets)\n",
      "Requirement already satisfied: html5lib>=0.99999999 in /Users/aashishchaudhary/tools/geonotebook/src.git/dev/lib/python2.7/site-packages (from bleach->nbconvert->notebook>=4.4.1->widgetsnbextension~=2.0.0->ipywidgets)\n",
      "Requirement already satisfied: configparser>=3.5; python_version == \"2.7\" in /Users/aashishchaudhary/tools/geonotebook/src.git/dev/lib/python2.7/site-packages (from entrypoints>=0.2.2->nbconvert->notebook>=4.4.1->widgetsnbextension~=2.0.0->ipywidgets)\n",
      "Requirement already satisfied: webencodings in /Users/aashishchaudhary/tools/geonotebook/src.git/dev/lib/python2.7/site-packages (from html5lib>=0.99999999->bleach->nbconvert->notebook>=4.4.1->widgetsnbextension~=2.0.0->ipywidgets)\n",
      "Installing collected packages: notebook\n",
      "  Found existing installation: notebook 4.3.1\n",
      "    Uninstalling notebook-4.3.1:\n",
      "      Successfully uninstalled notebook-4.3.1\n",
      "Successfully installed notebook-4.4.1\n",
      "Enabling notebook extension jupyter-js-widgets/extension...\n",
      "      - Validating: \u001b[32mOK\u001b[0m\n"
     ]
    }
   ],
   "source": [
    "!pip install ipywidgets\n",
    "!jupyter nbextension enable --py widgetsnbextension --sys-prefix"
   ]
  },
  {
   "cell_type": "markdown",
   "metadata": {},
   "source": [
    "If you are **not running in a virtual environment** (e.g. you are running with your globally installed python),  you will need to install the ipywidgets plugin with your system's package manager.  For more instructions check out the [ipywidgets user guide](http://ipywidgets.readthedocs.io/en/latest/)"
   ]
  },
  {
   "cell_type": "code",
   "execution_count": 7,
   "metadata": {
    "collapsed": false
   },
   "outputs": [
    {
     "data": {
      "text/plain": [
       "<function __main__.map_widgets>"
      ]
     },
     "execution_count": 7,
     "metadata": {},
     "output_type": "execute_result"
    }
   ],
   "source": [
    "from ipywidgets import interact\n",
    "import ipywidgets as widgets\n",
    "\n",
    "def map_widgets(lat=0.0, lon=0.0, zoom=4):\n",
    "  M.set_center(lon, lat, zoom)\n",
    "  \n",
    "interact(map_widgets, lat=(-90.0, 90.0), lon=(-180.0, 180.0), zoom=(1, 9))\n"
   ]
  },
  {
   "cell_type": "markdown",
   "metadata": {},
   "source": [
    "# Annotations\n",
    "\n",
    "In addition to supporting Python to Map communications,  Geonotebook allows objects and events on the map to communicate back to the Python kernel. One of the primary ways in which this is used is through geonotebook annotations. \n",
    "\n",
    "On the toolbar,  next to the \"CellToolbar\" button,  there should be three additional buttons with a circle,  square and a polygon. Hovering over each of these reveals that they can be used to start a point, rectangle or polygon annotation. \n",
    "\n",
    "### Point annotations\n",
    "Try clicking on the circle icon. Notice that the cursor,  when it hovers over the map,  is now a cross rather than an arrow. Click on the map and a circle annotation should appear. \n",
    "\n",
    "### Rectangle Annotations\n",
    "Try clicking on the square icon. If you click on the map and hold down the left mouse button, then drag the mouse and release the left mouse button you should be able to create a rectangular annotation. \n",
    "\n",
    "### Polygon annotations\n",
    "Try clicking on the polygon icon.  Single click on a series of points to begin creating a polygon annotation. Double click on a point and the final segment will be added completing the annotation.\n",
    "\n",
    "\n",
    "Annotations are made available on a special layer under ```M.layers```"
   ]
  },
  {
   "cell_type": "code",
   "execution_count": 8,
   "metadata": {
    "collapsed": false
   },
   "outputs": [
    {
     "data": {
      "text/plain": [
       "<AnnotationLayer('annotation')>"
      ]
     },
     "execution_count": 8,
     "metadata": {},
     "output_type": "execute_result"
    }
   ],
   "source": [
    "M.layers.annotation"
   ]
  },
  {
   "cell_type": "markdown",
   "metadata": {},
   "source": [
    "Each of the types of annotations are available under 'points', 'rectangles', and 'polygons' attributes on the AnnotationLayer object\n",
    "\n",
    "**Note** *Please make sure you have at least one of each annotation on the map*"
   ]
  },
  {
   "cell_type": "code",
   "execution_count": 9,
   "metadata": {
    "collapsed": false
   },
   "outputs": [
    {
     "data": {
      "text/plain": [
       "[]"
      ]
     },
     "execution_count": 9,
     "metadata": {},
     "output_type": "execute_result"
    }
   ],
   "source": [
    "M.layers.annotation.points"
   ]
  },
  {
   "cell_type": "code",
   "execution_count": 13,
   "metadata": {
    "collapsed": false
   },
   "outputs": [
    {
     "data": {
      "text/plain": [
       "[<geonotebook.annotations.Rectangle at 0x10d247b10>]"
      ]
     },
     "execution_count": 13,
     "metadata": {},
     "output_type": "execute_result"
    }
   ],
   "source": [
    "M.layers.annotation.rectangles"
   ]
  },
  {
   "cell_type": "code",
   "execution_count": 12,
   "metadata": {
    "collapsed": false
   },
   "outputs": [
    {
     "data": {
      "text/plain": [
       "[]"
      ]
     },
     "execution_count": 12,
     "metadata": {},
     "output_type": "execute_result"
    }
   ],
   "source": [
    "M.layers.annotation.polygons"
   ]
  },
  {
   "cell_type": "markdown",
   "metadata": {},
   "source": [
    "Annotations inherit from [shapely](http://toblerity.org/shapely/manual.html) geometries, this means they support a wide range of spatial functions."
   ]
  },
  {
   "cell_type": "code",
   "execution_count": 15,
   "metadata": {
    "collapsed": false
   },
   "outputs": [
    {
     "ename": "IndexError",
     "evalue": "list index out of range",
     "output_type": "error",
     "traceback": [
      "\u001b[0;31m---------------------------------------------------------------------------\u001b[0m",
      "\u001b[0;31mIndexError\u001b[0m                                Traceback (most recent call last)",
      "\u001b[0;32m<ipython-input-15-7db095866e01>\u001b[0m in \u001b[0;36m<module>\u001b[0;34m()\u001b[0m\n\u001b[0;32m----> 1\u001b[0;31m \u001b[0mp\u001b[0m \u001b[0;34m=\u001b[0m \u001b[0mM\u001b[0m\u001b[0;34m.\u001b[0m\u001b[0mlayers\u001b[0m\u001b[0;34m.\u001b[0m\u001b[0mannotation\u001b[0m\u001b[0;34m.\u001b[0m\u001b[0mpolygons\u001b[0m\u001b[0;34m[\u001b[0m\u001b[0;36m0\u001b[0m\u001b[0;34m]\u001b[0m\u001b[0;34m\u001b[0m\u001b[0m\n\u001b[0m",
      "\u001b[0;31mIndexError\u001b[0m: list index out of range"
     ]
    }
   ],
   "source": [
    "p = M.layers.annotation.polygons[0]"
   ]
  },
  {
   "cell_type": "markdown",
   "metadata": {},
   "source": [
    "You can get a list of coordinates for the polygon expressed in latitude and longitude"
   ]
  },
  {
   "cell_type": "code",
   "execution_count": null,
   "metadata": {
    "collapsed": false
   },
   "outputs": [],
   "source": [
    "# List the exterior coordinates of the annotation\n",
    "# Expressed in latitude and longitude point pairs\n",
    "list(p.exterior.coords)"
   ]
  },
  {
   "cell_type": "markdown",
   "metadata": {},
   "source": [
    "Other properties like 'centroid' and 'area' are also available,  keeping in mind that all coordinates are measured in latitude/longitude. This means properties like 'area' will not have much meaning.  You can look at Shapely's [transform](http://toblerity.org/shapely/manual.html#shapely.ops.transform) method for information on how to translate these into to something more useful"
   ]
  },
  {
   "cell_type": "code",
   "execution_count": null,
   "metadata": {
    "collapsed": false
   },
   "outputs": [],
   "source": [
    "list(p.centroid.coords)"
   ]
  },
  {
   "cell_type": "markdown",
   "metadata": {},
   "source": [
    "Here is an example of using shapely's transform method to convert coordinates from latitude/longitude (EPSG:4326)  to Albers equal area (AEA).  The resulting object gives area in units of meters squared "
   ]
  },
  {
   "cell_type": "code",
   "execution_count": null,
   "metadata": {
    "collapsed": false
   },
   "outputs": [],
   "source": [
    "import pyproj\n",
    "import shapely.ops as ops\n",
    "from functools import partial\n",
    "\n",
    "project = partial(pyproj.transform,\n",
    "                  pyproj.Proj(init='EPSG:4326'), \n",
    "                  pyproj.Proj(proj='aea',\n",
    "                    lat1=p.bounds[1],\n",
    "                    lat2=p.bounds[3]))\n",
    "\n",
    "ops.transform(project, p).area"
   ]
  },
  {
   "cell_type": "markdown",
   "metadata": {},
   "source": [
    "## Wrapping up\n",
    "\n",
    "These are some of the simplest examples of the functionality that the geonotebook offers.  In subsequent example notebooks we'll look at loading raster datasets,  and collections of raster datasets on the map,  using annotations to mark regions of interest, and comparing those regions overt time using familar tools in the pydata stack like numpy and matplotlib"
   ]
  }
 ],
 "metadata": {
  "kernelspec": {
   "display_name": "Geonotebook (Python 2)",
   "language": "python",
   "name": "geonotebook2"
  },
  "language_info": {
   "codemirror_mode": {
    "name": "ipython",
    "version": 2
   },
   "file_extension": ".py",
   "mimetype": "text/x-python",
   "name": "python",
   "nbconvert_exporter": "python",
   "pygments_lexer": "ipython2",
   "version": "2.7.13"
  },
  "widgets": {
   "state": {
    "2ac77dc070a1460796b2244c58457a7d": {
     "views": []
    },
    "3005f4f71ab5428a8c346472101f4c2b": {
     "views": []
    },
    "608ce684e1c94ac48d93ad74a064d254": {
     "views": []
    },
    "7cd3f7baa3ec41349bab4a9b486c3f16": {
     "views": [
      {
       "cell_index": 8
      }
     ]
    },
    "869271490bfb46918c0597cf27e70f5d": {
     "views": []
    },
    "aa1b345f19d242c4b2682d9880cba48b": {
     "views": []
    },
    "bdabf7f744b94f879bffe1768c4ef6d3": {
     "views": []
    },
    "cbefb7b872d74114bb6b0b35353b4900": {
     "views": []
    }
   },
   "version": "1.1.2"
  }
 },
 "nbformat": 4,
 "nbformat_minor": 1
}
